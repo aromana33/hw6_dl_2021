{
  "nbformat": 4,
  "nbformat_minor": 0,
  "metadata": {
    "colab": {
      "name": "HW3.ipynb",
      "provenance": []
    },
    "kernelspec": {
      "name": "python3",
      "display_name": "Python 3"
    },
    "language_info": {
      "name": "python"
    },
    "accelerator": "GPU",
    "widgets": {
      "application/vnd.jupyter.widget-state+json": {
        "35833c2f111c46c1a80e16f6b2b3f4ae": {
          "model_module": "@jupyter-widgets/controls",
          "model_name": "HBoxModel",
          "state": {
            "_view_name": "HBoxView",
            "_dom_classes": [],
            "_model_name": "HBoxModel",
            "_view_module": "@jupyter-widgets/controls",
            "_model_module_version": "1.5.0",
            "_view_count": null,
            "_view_module_version": "1.5.0",
            "box_style": "",
            "layout": "IPY_MODEL_d317f87f05604bcea5a619e25841aad7",
            "_model_module": "@jupyter-widgets/controls",
            "children": [
              "IPY_MODEL_74966ebb44c045f29ba223290330e7f2",
              "IPY_MODEL_d3b83d1766ca40a5ad5202ead750814f"
            ]
          }
        },
        "d317f87f05604bcea5a619e25841aad7": {
          "model_module": "@jupyter-widgets/base",
          "model_name": "LayoutModel",
          "state": {
            "_view_name": "LayoutView",
            "grid_template_rows": null,
            "right": null,
            "justify_content": null,
            "_view_module": "@jupyter-widgets/base",
            "overflow": null,
            "_model_module_version": "1.2.0",
            "_view_count": null,
            "flex_flow": null,
            "width": null,
            "min_width": null,
            "border": null,
            "align_items": null,
            "bottom": null,
            "_model_module": "@jupyter-widgets/base",
            "top": null,
            "grid_column": null,
            "overflow_y": null,
            "overflow_x": null,
            "grid_auto_flow": null,
            "grid_area": null,
            "grid_template_columns": null,
            "flex": null,
            "_model_name": "LayoutModel",
            "justify_items": null,
            "grid_row": null,
            "max_height": null,
            "align_content": null,
            "visibility": null,
            "align_self": null,
            "height": null,
            "min_height": null,
            "padding": null,
            "grid_auto_rows": null,
            "grid_gap": null,
            "max_width": null,
            "order": null,
            "_view_module_version": "1.2.0",
            "grid_template_areas": null,
            "object_position": null,
            "object_fit": null,
            "grid_auto_columns": null,
            "margin": null,
            "display": null,
            "left": null
          }
        },
        "74966ebb44c045f29ba223290330e7f2": {
          "model_module": "@jupyter-widgets/controls",
          "model_name": "FloatProgressModel",
          "state": {
            "_view_name": "ProgressView",
            "style": "IPY_MODEL_3267e34b93c040759e1a9b7215beb8e8",
            "_dom_classes": [],
            "description": "100%",
            "_model_name": "FloatProgressModel",
            "bar_style": "success",
            "max": 1,
            "_view_module": "@jupyter-widgets/controls",
            "_model_module_version": "1.5.0",
            "value": 1,
            "_view_count": null,
            "_view_module_version": "1.5.0",
            "orientation": "horizontal",
            "min": 0,
            "description_tooltip": null,
            "_model_module": "@jupyter-widgets/controls",
            "layout": "IPY_MODEL_eb0756cf36bd49a1ab7ebe6367686358"
          }
        },
        "d3b83d1766ca40a5ad5202ead750814f": {
          "model_module": "@jupyter-widgets/controls",
          "model_name": "HTMLModel",
          "state": {
            "_view_name": "HTMLView",
            "style": "IPY_MODEL_19959c43e7f24787bbb500fc0399cb9a",
            "_dom_classes": [],
            "description": "",
            "_model_name": "HTMLModel",
            "placeholder": "​",
            "_view_module": "@jupyter-widgets/controls",
            "_model_module_version": "1.5.0",
            "value": " 1/1 [00:57&lt;00:00, 57.12s/it]",
            "_view_count": null,
            "_view_module_version": "1.5.0",
            "description_tooltip": null,
            "_model_module": "@jupyter-widgets/controls",
            "layout": "IPY_MODEL_81b656b87ecf4624a59f5d539882b27c"
          }
        },
        "3267e34b93c040759e1a9b7215beb8e8": {
          "model_module": "@jupyter-widgets/controls",
          "model_name": "ProgressStyleModel",
          "state": {
            "_view_name": "StyleView",
            "_model_name": "ProgressStyleModel",
            "description_width": "initial",
            "_view_module": "@jupyter-widgets/base",
            "_model_module_version": "1.5.0",
            "_view_count": null,
            "_view_module_version": "1.2.0",
            "bar_color": null,
            "_model_module": "@jupyter-widgets/controls"
          }
        },
        "eb0756cf36bd49a1ab7ebe6367686358": {
          "model_module": "@jupyter-widgets/base",
          "model_name": "LayoutModel",
          "state": {
            "_view_name": "LayoutView",
            "grid_template_rows": null,
            "right": null,
            "justify_content": null,
            "_view_module": "@jupyter-widgets/base",
            "overflow": null,
            "_model_module_version": "1.2.0",
            "_view_count": null,
            "flex_flow": null,
            "width": null,
            "min_width": null,
            "border": null,
            "align_items": null,
            "bottom": null,
            "_model_module": "@jupyter-widgets/base",
            "top": null,
            "grid_column": null,
            "overflow_y": null,
            "overflow_x": null,
            "grid_auto_flow": null,
            "grid_area": null,
            "grid_template_columns": null,
            "flex": null,
            "_model_name": "LayoutModel",
            "justify_items": null,
            "grid_row": null,
            "max_height": null,
            "align_content": null,
            "visibility": null,
            "align_self": null,
            "height": null,
            "min_height": null,
            "padding": null,
            "grid_auto_rows": null,
            "grid_gap": null,
            "max_width": null,
            "order": null,
            "_view_module_version": "1.2.0",
            "grid_template_areas": null,
            "object_position": null,
            "object_fit": null,
            "grid_auto_columns": null,
            "margin": null,
            "display": null,
            "left": null
          }
        },
        "19959c43e7f24787bbb500fc0399cb9a": {
          "model_module": "@jupyter-widgets/controls",
          "model_name": "DescriptionStyleModel",
          "state": {
            "_view_name": "StyleView",
            "_model_name": "DescriptionStyleModel",
            "description_width": "",
            "_view_module": "@jupyter-widgets/base",
            "_model_module_version": "1.5.0",
            "_view_count": null,
            "_view_module_version": "1.2.0",
            "_model_module": "@jupyter-widgets/controls"
          }
        },
        "81b656b87ecf4624a59f5d539882b27c": {
          "model_module": "@jupyter-widgets/base",
          "model_name": "LayoutModel",
          "state": {
            "_view_name": "LayoutView",
            "grid_template_rows": null,
            "right": null,
            "justify_content": null,
            "_view_module": "@jupyter-widgets/base",
            "overflow": null,
            "_model_module_version": "1.2.0",
            "_view_count": null,
            "flex_flow": null,
            "width": null,
            "min_width": null,
            "border": null,
            "align_items": null,
            "bottom": null,
            "_model_module": "@jupyter-widgets/base",
            "top": null,
            "grid_column": null,
            "overflow_y": null,
            "overflow_x": null,
            "grid_auto_flow": null,
            "grid_area": null,
            "grid_template_columns": null,
            "flex": null,
            "_model_name": "LayoutModel",
            "justify_items": null,
            "grid_row": null,
            "max_height": null,
            "align_content": null,
            "visibility": null,
            "align_self": null,
            "height": null,
            "min_height": null,
            "padding": null,
            "grid_auto_rows": null,
            "grid_gap": null,
            "max_width": null,
            "order": null,
            "_view_module_version": "1.2.0",
            "grid_template_areas": null,
            "object_position": null,
            "object_fit": null,
            "grid_auto_columns": null,
            "margin": null,
            "display": null,
            "left": null
          }
        }
      }
    }
  },
  "cells": [
    {
      "cell_type": "markdown",
      "metadata": {
        "id": "ExuV3ktSQYrH"
      },
      "source": [
        "# Введение"
      ]
    },
    {
      "cell_type": "markdown",
      "metadata": {
        "id": "ef6180WvQbD-"
      },
      "source": [
        "В этом задании Вы продолжите работать с данными из семинара [Articles Sharing and Reading from CI&T Deskdrop](https://www.kaggle.com/gspmoreira/articles-sharing-reading-from-cit-deskdrop)."
      ]
    },
    {
      "cell_type": "code",
      "metadata": {
        "id": "M5mH3ZolSlcm"
      },
      "source": [
        "import pandas as pd\n",
        "import numpy as np\n",
        "import math\n",
        "\n",
        "from tqdm import tqdm\n",
        "\n",
        "from scipy import sparse\n",
        "from sklearn.feature_extraction.text import TfidfVectorizer"
      ],
      "execution_count": 1,
      "outputs": []
    },
    {
      "cell_type": "markdown",
      "metadata": {
        "id": "nSV_mxD9TciM"
      },
      "source": [
        "## Загрузка и предобработка данных"
      ]
    },
    {
      "cell_type": "markdown",
      "metadata": {
        "id": "PRQVuRvER0hd"
      },
      "source": [
        "Загрузим данные и проведем предобраотку данных как на семинаре."
      ]
    },
    {
      "cell_type": "code",
      "metadata": {
        "id": "8E837g9kQTbb"
      },
      "source": [
        "!wget -q -N https://www.dropbox.com/s/z8syrl5trawxs0n/articles.zip?dl=0 -O articles.zip\n",
        "!unzip -o -q articles.zip"
      ],
      "execution_count": 2,
      "outputs": []
    },
    {
      "cell_type": "code",
      "metadata": {
        "id": "hdM1xSchR9jt",
        "colab": {
          "base_uri": "https://localhost:8080/",
          "height": 376
        },
        "outputId": "5ab29d40-09dc-45b3-d3bb-15bc609a7c1d"
      },
      "source": [
        "articles_df = pd.read_csv('articles/shared_articles.csv')\n",
        "articles_df = articles_df[articles_df['eventType'] == 'CONTENT SHARED']\n",
        "articles_df.head(2)"
      ],
      "execution_count": 3,
      "outputs": [
        {
          "output_type": "execute_result",
          "data": {
            "text/html": [
              "<div>\n",
              "<style scoped>\n",
              "    .dataframe tbody tr th:only-of-type {\n",
              "        vertical-align: middle;\n",
              "    }\n",
              "\n",
              "    .dataframe tbody tr th {\n",
              "        vertical-align: top;\n",
              "    }\n",
              "\n",
              "    .dataframe thead th {\n",
              "        text-align: right;\n",
              "    }\n",
              "</style>\n",
              "<table border=\"1\" class=\"dataframe\">\n",
              "  <thead>\n",
              "    <tr style=\"text-align: right;\">\n",
              "      <th></th>\n",
              "      <th>timestamp</th>\n",
              "      <th>eventType</th>\n",
              "      <th>contentId</th>\n",
              "      <th>authorPersonId</th>\n",
              "      <th>authorSessionId</th>\n",
              "      <th>authorUserAgent</th>\n",
              "      <th>authorRegion</th>\n",
              "      <th>authorCountry</th>\n",
              "      <th>contentType</th>\n",
              "      <th>url</th>\n",
              "      <th>title</th>\n",
              "      <th>text</th>\n",
              "      <th>lang</th>\n",
              "    </tr>\n",
              "  </thead>\n",
              "  <tbody>\n",
              "    <tr>\n",
              "      <th>1</th>\n",
              "      <td>1459193988</td>\n",
              "      <td>CONTENT SHARED</td>\n",
              "      <td>-4110354420726924665</td>\n",
              "      <td>4340306774493623681</td>\n",
              "      <td>8940341205206233829</td>\n",
              "      <td>NaN</td>\n",
              "      <td>NaN</td>\n",
              "      <td>NaN</td>\n",
              "      <td>HTML</td>\n",
              "      <td>http://www.nytimes.com/2016/03/28/business/dea...</td>\n",
              "      <td>Ethereum, a Virtual Currency, Enables Transact...</td>\n",
              "      <td>All of this work is still very early. The firs...</td>\n",
              "      <td>en</td>\n",
              "    </tr>\n",
              "    <tr>\n",
              "      <th>2</th>\n",
              "      <td>1459194146</td>\n",
              "      <td>CONTENT SHARED</td>\n",
              "      <td>-7292285110016212249</td>\n",
              "      <td>4340306774493623681</td>\n",
              "      <td>8940341205206233829</td>\n",
              "      <td>NaN</td>\n",
              "      <td>NaN</td>\n",
              "      <td>NaN</td>\n",
              "      <td>HTML</td>\n",
              "      <td>http://cointelegraph.com/news/bitcoin-future-w...</td>\n",
              "      <td>Bitcoin Future: When GBPcoin of Branson Wins O...</td>\n",
              "      <td>The alarm clock wakes me at 8:00 with stream o...</td>\n",
              "      <td>en</td>\n",
              "    </tr>\n",
              "  </tbody>\n",
              "</table>\n",
              "</div>"
            ],
            "text/plain": [
              "    timestamp  ... lang\n",
              "1  1459193988  ...   en\n",
              "2  1459194146  ...   en\n",
              "\n",
              "[2 rows x 13 columns]"
            ]
          },
          "metadata": {
            "tags": []
          },
          "execution_count": 3
        }
      ]
    },
    {
      "cell_type": "code",
      "metadata": {
        "id": "KK9wMAkvSjbk",
        "colab": {
          "base_uri": "https://localhost:8080/",
          "height": 125
        },
        "outputId": "8fce7469-d5c9-4f1a-a285-dc98daa034cb"
      },
      "source": [
        "interactions_df = pd.read_csv('articles/users_interactions.csv')\n",
        "interactions_df.head(2)"
      ],
      "execution_count": 4,
      "outputs": [
        {
          "output_type": "execute_result",
          "data": {
            "text/html": [
              "<div>\n",
              "<style scoped>\n",
              "    .dataframe tbody tr th:only-of-type {\n",
              "        vertical-align: middle;\n",
              "    }\n",
              "\n",
              "    .dataframe tbody tr th {\n",
              "        vertical-align: top;\n",
              "    }\n",
              "\n",
              "    .dataframe thead th {\n",
              "        text-align: right;\n",
              "    }\n",
              "</style>\n",
              "<table border=\"1\" class=\"dataframe\">\n",
              "  <thead>\n",
              "    <tr style=\"text-align: right;\">\n",
              "      <th></th>\n",
              "      <th>timestamp</th>\n",
              "      <th>eventType</th>\n",
              "      <th>contentId</th>\n",
              "      <th>personId</th>\n",
              "      <th>sessionId</th>\n",
              "      <th>userAgent</th>\n",
              "      <th>userRegion</th>\n",
              "      <th>userCountry</th>\n",
              "    </tr>\n",
              "  </thead>\n",
              "  <tbody>\n",
              "    <tr>\n",
              "      <th>0</th>\n",
              "      <td>1465413032</td>\n",
              "      <td>VIEW</td>\n",
              "      <td>-3499919498720038879</td>\n",
              "      <td>-8845298781299428018</td>\n",
              "      <td>1264196770339959068</td>\n",
              "      <td>NaN</td>\n",
              "      <td>NaN</td>\n",
              "      <td>NaN</td>\n",
              "    </tr>\n",
              "    <tr>\n",
              "      <th>1</th>\n",
              "      <td>1465412560</td>\n",
              "      <td>VIEW</td>\n",
              "      <td>8890720798209849691</td>\n",
              "      <td>-1032019229384696495</td>\n",
              "      <td>3621737643587579081</td>\n",
              "      <td>Mozilla/5.0 (Macintosh; Intel Mac OS X 10_11_2...</td>\n",
              "      <td>NY</td>\n",
              "      <td>US</td>\n",
              "    </tr>\n",
              "  </tbody>\n",
              "</table>\n",
              "</div>"
            ],
            "text/plain": [
              "    timestamp eventType  ...  userRegion  userCountry\n",
              "0  1465413032      VIEW  ...         NaN          NaN\n",
              "1  1465412560      VIEW  ...          NY           US\n",
              "\n",
              "[2 rows x 8 columns]"
            ]
          },
          "metadata": {
            "tags": []
          },
          "execution_count": 4
        }
      ]
    },
    {
      "cell_type": "code",
      "metadata": {
        "id": "5nQScdSTTzNG"
      },
      "source": [
        "interactions_df.personId = interactions_df.personId.astype(str)\n",
        "interactions_df.contentId = interactions_df.contentId.astype(str)\n",
        "articles_df.contentId = articles_df.contentId.astype(str)"
      ],
      "execution_count": 5,
      "outputs": []
    },
    {
      "cell_type": "code",
      "metadata": {
        "id": "eu6R9rDQT2P4"
      },
      "source": [
        "# зададим словарь определяющий силу взаимодействия\n",
        "event_type_strength = {\n",
        "   'VIEW': 1.0,\n",
        "   'LIKE': 2.0, \n",
        "   'BOOKMARK': 2.5, \n",
        "   'FOLLOW': 3.0,\n",
        "   'COMMENT CREATED': 4.0,  \n",
        "}\n",
        "\n",
        "interactions_df['eventStrength'] = interactions_df.eventType.apply(lambda x: event_type_strength[x])"
      ],
      "execution_count": 6,
      "outputs": []
    },
    {
      "cell_type": "markdown",
      "metadata": {
        "id": "ATO5PRRwUkQ0"
      },
      "source": [
        "Оставляем только тех пользователей, которые произамодействовали более чем с пятью статьями."
      ]
    },
    {
      "cell_type": "code",
      "metadata": {
        "id": "d-0HoboYUBm5",
        "colab": {
          "base_uri": "https://localhost:8080/"
        },
        "outputId": "005c83e6-d750-462f-a48d-71ab5df9612a"
      },
      "source": [
        "users_interactions_count_df = (\n",
        "    interactions_df\n",
        "    .groupby(['personId', 'contentId'])\n",
        "    .first()\n",
        "    .reset_index()\n",
        "    .groupby('personId').size())\n",
        "print('# users:', len(users_interactions_count_df))\n",
        "\n",
        "users_with_enough_interactions_df = \\\n",
        "    users_interactions_count_df[users_interactions_count_df >= 5].reset_index()[['personId']]\n",
        "print('# users with at least 5 interactions:',len(users_with_enough_interactions_df))"
      ],
      "execution_count": 7,
      "outputs": [
        {
          "output_type": "stream",
          "text": [
            "# users: 1895\n",
            "# users with at least 5 interactions: 1140\n"
          ],
          "name": "stdout"
        }
      ]
    },
    {
      "cell_type": "markdown",
      "metadata": {
        "id": "gQagI3DHUuX5"
      },
      "source": [
        "Оставляем только те взаимодействия, которые относятся к отфильтрованным пользователям."
      ]
    },
    {
      "cell_type": "code",
      "metadata": {
        "id": "34rrdGdpUFgk"
      },
      "source": [
        "interactions_from_selected_users_df = interactions_df.loc[np.in1d(interactions_df.personId,\n",
        "            users_with_enough_interactions_df)]"
      ],
      "execution_count": 8,
      "outputs": []
    },
    {
      "cell_type": "code",
      "metadata": {
        "id": "Hd3VS_BgU9HN",
        "colab": {
          "base_uri": "https://localhost:8080/"
        },
        "outputId": "6798e9c5-9f23-427f-d28b-4be5e6b24274"
      },
      "source": [
        "print('# interactions before:', interactions_df.shape)\n",
        "print('# interactions after:', interactions_from_selected_users_df.shape)"
      ],
      "execution_count": 9,
      "outputs": [
        {
          "output_type": "stream",
          "text": [
            "# interactions before: (72312, 9)\n",
            "# interactions after: (69868, 9)\n"
          ],
          "name": "stdout"
        }
      ]
    },
    {
      "cell_type": "markdown",
      "metadata": {
        "id": "FYpRiFkQVR6B"
      },
      "source": [
        "Объединяем все взаимодействия пользователя по каждой статье и сглажиываем полученный результат, взяв от него логарифм."
      ]
    },
    {
      "cell_type": "code",
      "metadata": {
        "id": "mtPtAehKVEUu",
        "colab": {
          "base_uri": "https://localhost:8080/",
          "height": 201
        },
        "outputId": "e20da5e1-39c3-46cf-c2b1-2ed3fae7883b"
      },
      "source": [
        "def smooth_user_preference(x):\n",
        "    return math.log(1+x, 2)\n",
        "    \n",
        "interactions_full_df = (\n",
        "    interactions_from_selected_users_df\n",
        "    .groupby(['personId', 'contentId']).eventStrength.sum()\n",
        "    .apply(smooth_user_preference)\n",
        "    .reset_index().set_index(['personId', 'contentId'])\n",
        ")\n",
        "interactions_full_df['last_timestamp'] = (\n",
        "    interactions_from_selected_users_df\n",
        "    .groupby(['personId', 'contentId'])['timestamp'].last()\n",
        ")\n",
        "        \n",
        "interactions_full_df = interactions_full_df.reset_index()\n",
        "interactions_full_df.head(5)"
      ],
      "execution_count": 10,
      "outputs": [
        {
          "output_type": "execute_result",
          "data": {
            "text/html": [
              "<div>\n",
              "<style scoped>\n",
              "    .dataframe tbody tr th:only-of-type {\n",
              "        vertical-align: middle;\n",
              "    }\n",
              "\n",
              "    .dataframe tbody tr th {\n",
              "        vertical-align: top;\n",
              "    }\n",
              "\n",
              "    .dataframe thead th {\n",
              "        text-align: right;\n",
              "    }\n",
              "</style>\n",
              "<table border=\"1\" class=\"dataframe\">\n",
              "  <thead>\n",
              "    <tr style=\"text-align: right;\">\n",
              "      <th></th>\n",
              "      <th>personId</th>\n",
              "      <th>contentId</th>\n",
              "      <th>eventStrength</th>\n",
              "      <th>last_timestamp</th>\n",
              "    </tr>\n",
              "  </thead>\n",
              "  <tbody>\n",
              "    <tr>\n",
              "      <th>0</th>\n",
              "      <td>-1007001694607905623</td>\n",
              "      <td>-5065077552540450930</td>\n",
              "      <td>1.000000</td>\n",
              "      <td>1470395911</td>\n",
              "    </tr>\n",
              "    <tr>\n",
              "      <th>1</th>\n",
              "      <td>-1007001694607905623</td>\n",
              "      <td>-6623581327558800021</td>\n",
              "      <td>1.000000</td>\n",
              "      <td>1487240080</td>\n",
              "    </tr>\n",
              "    <tr>\n",
              "      <th>2</th>\n",
              "      <td>-1007001694607905623</td>\n",
              "      <td>-793729620925729327</td>\n",
              "      <td>1.000000</td>\n",
              "      <td>1472834892</td>\n",
              "    </tr>\n",
              "    <tr>\n",
              "      <th>3</th>\n",
              "      <td>-1007001694607905623</td>\n",
              "      <td>1469580151036142903</td>\n",
              "      <td>1.000000</td>\n",
              "      <td>1487240062</td>\n",
              "    </tr>\n",
              "    <tr>\n",
              "      <th>4</th>\n",
              "      <td>-1007001694607905623</td>\n",
              "      <td>7270966256391553686</td>\n",
              "      <td>1.584963</td>\n",
              "      <td>1485994324</td>\n",
              "    </tr>\n",
              "  </tbody>\n",
              "</table>\n",
              "</div>"
            ],
            "text/plain": [
              "               personId             contentId  eventStrength  last_timestamp\n",
              "0  -1007001694607905623  -5065077552540450930       1.000000      1470395911\n",
              "1  -1007001694607905623  -6623581327558800021       1.000000      1487240080\n",
              "2  -1007001694607905623   -793729620925729327       1.000000      1472834892\n",
              "3  -1007001694607905623   1469580151036142903       1.000000      1487240062\n",
              "4  -1007001694607905623   7270966256391553686       1.584963      1485994324"
            ]
          },
          "metadata": {
            "tags": []
          },
          "execution_count": 10
        }
      ]
    },
    {
      "cell_type": "markdown",
      "metadata": {
        "id": "ODJYMtnNWM5w"
      },
      "source": [
        "Разобьём выборку на обучение и контроль по времени."
      ]
    },
    {
      "cell_type": "code",
      "metadata": {
        "id": "3F2CfAwoVrfo",
        "colab": {
          "base_uri": "https://localhost:8080/",
          "height": 444
        },
        "outputId": "a52b3999-5e79-479e-8866-975f940fd30d"
      },
      "source": [
        "from sklearn.model_selection import train_test_split\n",
        "\n",
        "split_ts = 1475519530\n",
        "interactions_train_df = interactions_full_df.loc[interactions_full_df.last_timestamp < split_ts].copy()\n",
        "interactions_test_df = interactions_full_df.loc[interactions_full_df.last_timestamp >= split_ts].copy()\n",
        "\n",
        "print('# interactions on Train set: %d' % len(interactions_train_df))\n",
        "print('# interactions on Test set: %d' % len(interactions_test_df))\n",
        "\n",
        "interactions_train_df"
      ],
      "execution_count": 11,
      "outputs": [
        {
          "output_type": "stream",
          "text": [
            "# interactions on Train set: 29329\n",
            "# interactions on Test set: 9777\n"
          ],
          "name": "stdout"
        },
        {
          "output_type": "execute_result",
          "data": {
            "text/html": [
              "<div>\n",
              "<style scoped>\n",
              "    .dataframe tbody tr th:only-of-type {\n",
              "        vertical-align: middle;\n",
              "    }\n",
              "\n",
              "    .dataframe tbody tr th {\n",
              "        vertical-align: top;\n",
              "    }\n",
              "\n",
              "    .dataframe thead th {\n",
              "        text-align: right;\n",
              "    }\n",
              "</style>\n",
              "<table border=\"1\" class=\"dataframe\">\n",
              "  <thead>\n",
              "    <tr style=\"text-align: right;\">\n",
              "      <th></th>\n",
              "      <th>personId</th>\n",
              "      <th>contentId</th>\n",
              "      <th>eventStrength</th>\n",
              "      <th>last_timestamp</th>\n",
              "    </tr>\n",
              "  </thead>\n",
              "  <tbody>\n",
              "    <tr>\n",
              "      <th>0</th>\n",
              "      <td>-1007001694607905623</td>\n",
              "      <td>-5065077552540450930</td>\n",
              "      <td>1.0</td>\n",
              "      <td>1470395911</td>\n",
              "    </tr>\n",
              "    <tr>\n",
              "      <th>2</th>\n",
              "      <td>-1007001694607905623</td>\n",
              "      <td>-793729620925729327</td>\n",
              "      <td>1.0</td>\n",
              "      <td>1472834892</td>\n",
              "    </tr>\n",
              "    <tr>\n",
              "      <th>6</th>\n",
              "      <td>-1032019229384696495</td>\n",
              "      <td>-1006791494035379303</td>\n",
              "      <td>1.0</td>\n",
              "      <td>1469129122</td>\n",
              "    </tr>\n",
              "    <tr>\n",
              "      <th>7</th>\n",
              "      <td>-1032019229384696495</td>\n",
              "      <td>-1039912738963181810</td>\n",
              "      <td>1.0</td>\n",
              "      <td>1459376415</td>\n",
              "    </tr>\n",
              "    <tr>\n",
              "      <th>8</th>\n",
              "      <td>-1032019229384696495</td>\n",
              "      <td>-1081723567492738167</td>\n",
              "      <td>2.0</td>\n",
              "      <td>1464054093</td>\n",
              "    </tr>\n",
              "    <tr>\n",
              "      <th>...</th>\n",
              "      <td>...</td>\n",
              "      <td>...</td>\n",
              "      <td>...</td>\n",
              "      <td>...</td>\n",
              "    </tr>\n",
              "    <tr>\n",
              "      <th>39099</th>\n",
              "      <td>997469202936578234</td>\n",
              "      <td>9112765177685685246</td>\n",
              "      <td>2.0</td>\n",
              "      <td>1472479493</td>\n",
              "    </tr>\n",
              "    <tr>\n",
              "      <th>39100</th>\n",
              "      <td>998688566268269815</td>\n",
              "      <td>-1255189867397298842</td>\n",
              "      <td>1.0</td>\n",
              "      <td>1474567164</td>\n",
              "    </tr>\n",
              "    <tr>\n",
              "      <th>39101</th>\n",
              "      <td>998688566268269815</td>\n",
              "      <td>-401664538366009049</td>\n",
              "      <td>1.0</td>\n",
              "      <td>1474567449</td>\n",
              "    </tr>\n",
              "    <tr>\n",
              "      <th>39103</th>\n",
              "      <td>998688566268269815</td>\n",
              "      <td>6881796783400625893</td>\n",
              "      <td>1.0</td>\n",
              "      <td>1474567675</td>\n",
              "    </tr>\n",
              "    <tr>\n",
              "      <th>39105</th>\n",
              "      <td>998688566268269815</td>\n",
              "      <td>739747367187387064</td>\n",
              "      <td>1.0</td>\n",
              "      <td>1474567514</td>\n",
              "    </tr>\n",
              "  </tbody>\n",
              "</table>\n",
              "<p>29329 rows × 4 columns</p>\n",
              "</div>"
            ],
            "text/plain": [
              "                   personId  ... last_timestamp\n",
              "0      -1007001694607905623  ...     1470395911\n",
              "2      -1007001694607905623  ...     1472834892\n",
              "6      -1032019229384696495  ...     1469129122\n",
              "7      -1032019229384696495  ...     1459376415\n",
              "8      -1032019229384696495  ...     1464054093\n",
              "...                     ...  ...            ...\n",
              "39099    997469202936578234  ...     1472479493\n",
              "39100    998688566268269815  ...     1474567164\n",
              "39101    998688566268269815  ...     1474567449\n",
              "39103    998688566268269815  ...     1474567675\n",
              "39105    998688566268269815  ...     1474567514\n",
              "\n",
              "[29329 rows x 4 columns]"
            ]
          },
          "metadata": {
            "tags": []
          },
          "execution_count": 11
        }
      ]
    },
    {
      "cell_type": "markdown",
      "metadata": {
        "id": "h5G3FTYOXLVg"
      },
      "source": [
        "Для удобства подсчёта качества запишем данные в формате, где строка соответствует пользователю, а столбцы будут истинными метками и предсказаниями в виде списков."
      ]
    },
    {
      "cell_type": "code",
      "metadata": {
        "id": "RT-_toqfXOa2",
        "colab": {
          "base_uri": "https://localhost:8080/",
          "height": 231
        },
        "outputId": "e2c17b23-8751-493b-c441-9764434b7c8a"
      },
      "source": [
        "interactions = (\n",
        "    interactions_train_df\n",
        "    .groupby('personId')['contentId'].agg(lambda x: list(x))\n",
        "    .reset_index()\n",
        "    .rename(columns={'contentId': 'true_train'})\n",
        "    .set_index('personId')\n",
        ")\n",
        "\n",
        "interactions['true_test'] = (\n",
        "    interactions_test_df\n",
        "    .groupby('personId')['contentId'].agg(lambda x: list(x))\n",
        ")\n",
        "\n",
        "# заполнение пропусков пустыми списками\n",
        "interactions.loc[pd.isnull(interactions.true_test), 'true_test'] = [\n",
        "    list() for x in range(len(interactions.loc[pd.isnull(interactions.true_test), 'true_test']))]\n",
        "\n",
        "interactions.head(5)"
      ],
      "execution_count": 12,
      "outputs": [
        {
          "output_type": "execute_result",
          "data": {
            "text/html": [
              "<div>\n",
              "<style scoped>\n",
              "    .dataframe tbody tr th:only-of-type {\n",
              "        vertical-align: middle;\n",
              "    }\n",
              "\n",
              "    .dataframe tbody tr th {\n",
              "        vertical-align: top;\n",
              "    }\n",
              "\n",
              "    .dataframe thead th {\n",
              "        text-align: right;\n",
              "    }\n",
              "</style>\n",
              "<table border=\"1\" class=\"dataframe\">\n",
              "  <thead>\n",
              "    <tr style=\"text-align: right;\">\n",
              "      <th></th>\n",
              "      <th>true_train</th>\n",
              "      <th>true_test</th>\n",
              "    </tr>\n",
              "    <tr>\n",
              "      <th>personId</th>\n",
              "      <th></th>\n",
              "      <th></th>\n",
              "    </tr>\n",
              "  </thead>\n",
              "  <tbody>\n",
              "    <tr>\n",
              "      <th>-1007001694607905623</th>\n",
              "      <td>[-5065077552540450930, -793729620925729327]</td>\n",
              "      <td>[-6623581327558800021, 1469580151036142903, 72...</td>\n",
              "    </tr>\n",
              "    <tr>\n",
              "      <th>-1032019229384696495</th>\n",
              "      <td>[-1006791494035379303, -1039912738963181810, -...</td>\n",
              "      <td>[-1415040208471067980, -2555801390963402198, -...</td>\n",
              "    </tr>\n",
              "    <tr>\n",
              "      <th>-108842214936804958</th>\n",
              "      <td>[-1196068832249300490, -133139342397538859, -1...</td>\n",
              "      <td>[-2780168264183400543, -3060116862184714437, -...</td>\n",
              "    </tr>\n",
              "    <tr>\n",
              "      <th>-1130272294246983140</th>\n",
              "      <td>[-1150591229250318592, -1196068832249300490, -...</td>\n",
              "      <td>[-1606980109000976010, -1663441888197894674, -...</td>\n",
              "    </tr>\n",
              "    <tr>\n",
              "      <th>-1160159014793528221</th>\n",
              "      <td>[-133139342397538859, -387651900461462767, 377...</td>\n",
              "      <td>[-3462051751080362224]</td>\n",
              "    </tr>\n",
              "  </tbody>\n",
              "</table>\n",
              "</div>"
            ],
            "text/plain": [
              "                                                             true_train                                          true_test\n",
              "personId                                                                                                                  \n",
              "-1007001694607905623        [-5065077552540450930, -793729620925729327]  [-6623581327558800021, 1469580151036142903, 72...\n",
              "-1032019229384696495  [-1006791494035379303, -1039912738963181810, -...  [-1415040208471067980, -2555801390963402198, -...\n",
              "-108842214936804958   [-1196068832249300490, -133139342397538859, -1...  [-2780168264183400543, -3060116862184714437, -...\n",
              "-1130272294246983140  [-1150591229250318592, -1196068832249300490, -...  [-1606980109000976010, -1663441888197894674, -...\n",
              "-1160159014793528221  [-133139342397538859, -387651900461462767, 377...                             [-3462051751080362224]"
            ]
          },
          "metadata": {
            "tags": []
          },
          "execution_count": 12
        }
      ]
    },
    {
      "cell_type": "markdown",
      "metadata": {
        "id": "-UWDyWKsamSa"
      },
      "source": [
        "## Библиотека LightFM"
      ]
    },
    {
      "cell_type": "markdown",
      "metadata": {
        "id": "L-iXjvdZa25Z"
      },
      "source": [
        "Для рекомендации Вы будете пользоваться библиотекой [LightFM](https://making.lyst.com/lightfm/docs/home.html), в которой реализованы популярные алгоритмы. Для оценивания качества рекомендации, как и на семинаре, будем пользоваться метрикой *precision@10*."
      ]
    },
    {
      "cell_type": "code",
      "metadata": {
        "id": "RlKjG91j0rKT"
      },
      "source": [
        " #!pip install lightfm"
      ],
      "execution_count": 44,
      "outputs": []
    },
    {
      "cell_type": "code",
      "metadata": {
        "id": "Qtyn38PZXPLf"
      },
      "source": [
        "from lightfm import LightFM\n",
        "from lightfm.evaluation import precision_at_k"
      ],
      "execution_count": 14,
      "outputs": []
    },
    {
      "cell_type": "markdown",
      "metadata": {
        "id": "0CjyGqulcZTf"
      },
      "source": [
        "## Задание 1. (2 балла)"
      ]
    },
    {
      "cell_type": "markdown",
      "metadata": {
        "id": "4Sof6V5Dd4h9"
      },
      "source": [
        "Модели в LightFM работают с разреженными матрицами. Создайте разреженные матрицы `data_train` и `data_test` (размером количество пользователей на количество статей), такие что на пересечении строки пользователя и столбца статьи стоит сила их взаимодействия, если взаимодействие было, и стоит ноль, если взаимодействия не было."
      ]
    },
    {
      "cell_type": "code",
      "metadata": {
        "id": "19bzR3sO2WSR",
        "colab": {
          "base_uri": "https://localhost:8080/"
        },
        "outputId": "bf091ae1-71b6-4cc5-a94e-f7e8870cbfae"
      },
      "source": [
        "interactions_full_df.shape, interactions_train_df.shape[0] + interactions_test_df.shape[0], interactions_train_df.shape, interactions_test_df.shape"
      ],
      "execution_count": 15,
      "outputs": [
        {
          "output_type": "execute_result",
          "data": {
            "text/plain": [
              "((39106, 4), 39106, (29329, 4), (9777, 4))"
            ]
          },
          "metadata": {
            "tags": []
          },
          "execution_count": 15
        }
      ]
    },
    {
      "cell_type": "code",
      "metadata": {
        "colab": {
          "base_uri": "https://localhost:8080/"
        },
        "id": "3qwcqKugjpl5",
        "outputId": "68620138-081a-4734-91b7-dc73ba8f981b"
      },
      "source": [
        "pd.pivot_table(\n",
        "    interactions_full_df,\n",
        "    values='eventStrength',\n",
        "    index='personId',\n",
        "    columns='contentId').fillna(0)[pd.pivot_table(\n",
        "    interactions_full_df,\n",
        "    values='eventStrength',\n",
        "    index='personId',\n",
        "    columns='contentId').fillna(0).columns[0]][0]"
      ],
      "execution_count": 16,
      "outputs": [
        {
          "output_type": "execute_result",
          "data": {
            "text/plain": [
              "0.0"
            ]
          },
          "metadata": {
            "tags": []
          },
          "execution_count": 16
        }
      ]
    },
    {
      "cell_type": "markdown",
      "metadata": {
        "id": "zezj67lSkiBY"
      },
      "source": [
        "Поскольку трейн и тест должны быть одинаковы по размеру, то есть n пользователей х n статей, то сделаю трейн и тест одного размера, скопировав из оригинальной таблицы, а потом заполнив из трейна и теста взаимодействий"
      ]
    },
    {
      "cell_type": "code",
      "metadata": {
        "colab": {
          "base_uri": "https://localhost:8080/"
        },
        "id": "GOcJXJlFjMxr",
        "outputId": "b4171784-ce10-423b-f8d1-7b8689241256"
      },
      "source": [
        "samp = pd.pivot_table(\n",
        "    interactions_full_df,\n",
        "    values='eventStrength',\n",
        "    index='personId',\n",
        "    columns='contentId').fillna(0)\n",
        "print(\"Matrix from interactions was created!\")\n",
        "train_rate = samp.copy()\n",
        "test_rate = samp.copy()\n",
        "print(\"Train test equal matrix were copied from samp!\")\n",
        "for i in samp.columns:\n",
        "  zer = np.zeros(samp[i].values.shape[0])\n",
        "  train_rate[i].values[:] = zer\n",
        "  test_rate[i].values[:] = zer\n",
        "print(\"Train test were filled with 0 by their columns :) \")"
      ],
      "execution_count": 17,
      "outputs": [
        {
          "output_type": "stream",
          "text": [
            "Matrix from interactions was created!\n",
            "Train test equal matrix were copied from samp!\n",
            "Train test were filled with 0 by their columns :) \n"
          ],
          "name": "stdout"
        }
      ]
    },
    {
      "cell_type": "markdown",
      "metadata": {
        "id": "nG2Ss9T_kXqi"
      },
      "source": [
        "Все встроенные методы немного ломались и не получалось использовать силу взаимодействия в них, поэтому делаю в лоб..."
      ]
    },
    {
      "cell_type": "code",
      "metadata": {
        "id": "jETvOqCn24g0",
        "colab": {
          "base_uri": "https://localhost:8080/"
        },
        "outputId": "da3ca759-6e82-4d7f-c182-33164087773a"
      },
      "source": [
        "personIds = list(interactions_full_df.personId.unique()) \n",
        "for i in tqdm(range(len(personIds))):\n",
        "  train_cop = interactions_train_df[interactions_train_df['personId'] == personIds[i]]\n",
        "  test_cop = interactions_test_df[interactions_test_df['personId'] == personIds[i]]\n",
        "  for j in range(len(train_cop.index)):\n",
        "    train_rate.loc[personIds[i], train_cop['contentId']] = train_cop.iloc[j].eventStrength\n",
        "  for z in range(len(test_cop.index)):\n",
        "    test_rate.loc[personIds[i], test_cop['contentId']] = test_cop.iloc[z].eventStrength"
      ],
      "execution_count": 18,
      "outputs": [
        {
          "output_type": "stream",
          "text": [
            "100%|██████████| 1140/1140 [00:42<00:00, 27.09it/s]\n"
          ],
          "name": "stderr"
        }
      ]
    },
    {
      "cell_type": "code",
      "metadata": {
        "id": "3akLeGTV01BY",
        "colab": {
          "base_uri": "https://localhost:8080/"
        },
        "outputId": "e2db2de5-6eb4-4bcf-869a-f39986875e74"
      },
      "source": [
        "sparse.csr_matrix(train_rate).shape"
      ],
      "execution_count": 19,
      "outputs": [
        {
          "output_type": "execute_result",
          "data": {
            "text/plain": [
              "(1140, 2984)"
            ]
          },
          "metadata": {
            "tags": []
          },
          "execution_count": 19
        }
      ]
    },
    {
      "cell_type": "code",
      "metadata": {
        "id": "1cLZ5ga4eIdg"
      },
      "source": [
        "# Ваш код здесь\n",
        "data_train = sparse.csr_matrix(train_rate)\n",
        "data_test = sparse.csr_matrix(test_rate)"
      ],
      "execution_count": 20,
      "outputs": []
    },
    {
      "cell_type": "markdown",
      "metadata": {
        "id": "AiNGVzTveRXE"
      },
      "source": [
        "## Задание 2. (1 балл)"
      ]
    },
    {
      "cell_type": "markdown",
      "metadata": {
        "id": "ZPfVK3STeryM"
      },
      "source": [
        "Обучите модель LightFM с `loss='warp'` и посчитайте *precision@10* на тесте."
      ]
    },
    {
      "cell_type": "code",
      "metadata": {
        "id": "YFQxeHw8eVLz",
        "colab": {
          "base_uri": "https://localhost:8080/"
        },
        "outputId": "99232ddf-f45f-4392-8252-c8f04675d728"
      },
      "source": [
        "LF = LightFM(loss='warp', random_state=100)\n",
        "LF.fit(data_train, epochs=10)\n",
        "precision_at_k(model=LF, test_interactions=data_test, k=10).mean() # спасибо семинару за три строчки кода"
      ],
      "execution_count": 21,
      "outputs": [
        {
          "output_type": "execute_result",
          "data": {
            "text/plain": [
              "0.0047861505"
            ]
          },
          "metadata": {
            "tags": []
          },
          "execution_count": 21
        }
      ]
    },
    {
      "cell_type": "markdown",
      "metadata": {
        "id": "qZDsG1iAfdrl"
      },
      "source": [
        "## Задание 3. (3 балла)"
      ]
    },
    {
      "cell_type": "markdown",
      "metadata": {
        "id": "F93chvtbgA9N"
      },
      "source": [
        "При вызове метода `fit` LightFM позволяет передавать в `item_features` признаковое описание объектов. Воспользуемся этим. Будем получать признаковое описание из текста статьи в виде [TF-IDF](https://ru.wikipedia.org/wiki/TF-IDF) (можно воспользоваться `TfidfVectorizer` из scikit-learn). Создайте матрицу `feat` размером количесвто статей на размер признакового описание и обучите LightFM с `loss='warp'` и посчитайте precision@10 на тесте.\n",
        "\n",
        "---"
      ]
    },
    {
      "cell_type": "markdown",
      "metadata": {
        "id": "TSTj2wJapUp-"
      },
      "source": [
        "Значит нам нужно вытащить все тексты статей, которые встречаются в трейне, соединить их, векторизовать и добавить в модель, well"
      ]
    },
    {
      "cell_type": "markdown",
      "metadata": {
        "id": "k-hoMuC56aNO"
      },
      "source": [
        "Копирую датасет, потому что потом я с ним сотворю нечто"
      ]
    },
    {
      "cell_type": "code",
      "metadata": {
        "id": "OPKpECb51KiA"
      },
      "source": [
        "df = articles_df.copy()"
      ],
      "execution_count": 22,
      "outputs": []
    },
    {
      "cell_type": "markdown",
      "metadata": {
        "id": "ZubDRPhc6gEQ"
      },
      "source": [
        "Делаю сортер и сортирую датасет со стьятьми в том порядке айдишек статей, в котором они лежат у меня в трейне"
      ]
    },
    {
      "cell_type": "code",
      "metadata": {
        "id": "noEopWvqz7lk"
      },
      "source": [
        "sorter = train_rate.columns"
      ],
      "execution_count": 23,
      "outputs": []
    },
    {
      "cell_type": "code",
      "metadata": {
        "id": "xRj4910ez7ni"
      },
      "source": [
        "df.contentId = df.contentId.astype(\"category\")\n",
        "df.contentId.cat.set_categories(sorter, inplace=True)\n",
        "df = df.loc[df['contentId'].isin(train_rate.columns)]\n",
        "df = df.sort_values([\"contentId\"])"
      ],
      "execution_count": 24,
      "outputs": []
    },
    {
      "cell_type": "markdown",
      "metadata": {
        "id": "g2G_TC6A6pPf"
      },
      "source": [
        "Создаю массив с текстами статей из датасета, он меньше необходимого, так как некоторые статьи были пропущены"
      ]
    },
    {
      "cell_type": "code",
      "metadata": {
        "id": "66ylzFDw3dzG"
      },
      "source": [
        "tt = df['text'].to_numpy()"
      ],
      "execution_count": 25,
      "outputs": []
    },
    {
      "cell_type": "markdown",
      "metadata": {
        "id": "0EHXvPr06yq9"
      },
      "source": [
        "Нахожу потерянные статьи:"
      ]
    },
    {
      "cell_type": "code",
      "metadata": {
        "id": "T7duP1U24kWG"
      },
      "source": [
        "missing = list(set(train_rate.columns) - set(df['contentId'].tolist()))"
      ],
      "execution_count": 26,
      "outputs": []
    },
    {
      "cell_type": "markdown",
      "metadata": {
        "id": "P12Pi9DN7N7K"
      },
      "source": [
        "Нахожу их индексы в трейне:"
      ]
    },
    {
      "cell_type": "code",
      "metadata": {
        "id": "POnJgM4b4wjh"
      },
      "source": [
        "indices = []\n",
        "for i in missing:\n",
        "  indices.append(np.where(np.array(train_rate.columns) == i)[0][0])\n",
        "indices = sorted(indices)"
      ],
      "execution_count": 27,
      "outputs": []
    },
    {
      "cell_type": "markdown",
      "metadata": {
        "id": "Tg-rccTI7W1d"
      },
      "source": [
        "Вставляю в местах недостающих статей пустые строки и тем самым добиваю размер корпуса текстов до нужного"
      ]
    },
    {
      "cell_type": "code",
      "metadata": {
        "id": "K_C_zcVu47MF"
      },
      "source": [
        "for i in indices:\n",
        "  tt = np.insert(tt, i, '')"
      ],
      "execution_count": 28,
      "outputs": []
    },
    {
      "cell_type": "code",
      "metadata": {
        "colab": {
          "base_uri": "https://localhost:8080/"
        },
        "id": "VVfDs96z31NA",
        "outputId": "9e4679a5-cca8-4cde-f83c-77323303be1c"
      },
      "source": [
        "tt.shape"
      ],
      "execution_count": 29,
      "outputs": [
        {
          "output_type": "execute_result",
          "data": {
            "text/plain": [
              "(2984,)"
            ]
          },
          "metadata": {
            "tags": []
          },
          "execution_count": 29
        }
      ]
    },
    {
      "cell_type": "code",
      "metadata": {
        "id": "II5mYCGqrr71"
      },
      "source": [
        "Tfidf = TfidfVectorizer(max_features=200)"
      ],
      "execution_count": 30,
      "outputs": []
    },
    {
      "cell_type": "code",
      "metadata": {
        "id": "5SvUi_Fofgf5"
      },
      "source": [
        "# Ваш код здесь\n",
        "feat = Tfidf.fit_transform(tt)"
      ],
      "execution_count": 31,
      "outputs": []
    },
    {
      "cell_type": "code",
      "metadata": {
        "colab": {
          "base_uri": "https://localhost:8080/"
        },
        "id": "4m056MThr5FZ",
        "outputId": "a7ff581a-164c-4d56-8831-f411c4912cb0"
      },
      "source": [
        "LF_tfidf = LightFM(loss='warp', random_state=10)\n",
        "LF_tfidf.fit(data_train, item_features=feat, epochs=10)\n",
        "precision_at_k(model=LF_tfidf, test_interactions=data_test, item_features=feat, k=10).mean() "
      ],
      "execution_count": 32,
      "outputs": [
        {
          "output_type": "execute_result",
          "data": {
            "text/plain": [
              "0.011710795"
            ]
          },
          "metadata": {
            "tags": []
          },
          "execution_count": 32
        }
      ]
    },
    {
      "cell_type": "markdown",
      "metadata": {
        "id": "M4PJMasJ73VT"
      },
      "source": [
        "Ну, качество выросло хахах"
      ]
    },
    {
      "cell_type": "markdown",
      "metadata": {
        "id": "8Lwuex6PpsFw"
      },
      "source": [
        "## Задание 4. (2 балла)"
      ]
    },
    {
      "cell_type": "markdown",
      "metadata": {
        "id": "5aZcHjSzp2cZ"
      },
      "source": [
        "В задании 3 мы использовали сырой текст статей. В этом задании необходимо сначала сделать предобработку текста (привести к нижнему регистру, убрать стоп слова, привести слова к номральной форме и т.д.), после чего обучите модель и оценить качество на тестовых данных."
      ]
    },
    {
      "cell_type": "code",
      "metadata": {
        "id": "HDSaOLiJpdGj",
        "colab": {
          "base_uri": "https://localhost:8080/"
        },
        "outputId": "3c0f38dc-7937-46f3-83a2-6b1cb184bb51"
      },
      "source": [
        "# !pip install nltk\n",
        "import nltk\n",
        "nltk.download('wordnet')\n",
        "nltk.download('stopwords')\n",
        "from nltk import tokenize\n",
        "from nltk.tokenize import TweetTokenizer\n",
        "from nltk.corpus import stopwords\n",
        "from string import punctuation\n",
        "from nltk.tokenize import word_tokenize\n",
        "from nltk.tokenize import RegexpTokenizer\n",
        "from nltk.stem import WordNetLemmatizer\n",
        "\n",
        "from pymystem3 import Mystem"
      ],
      "execution_count": 90,
      "outputs": [
        {
          "output_type": "stream",
          "text": [
            "[nltk_data] Downloading package wordnet to /root/nltk_data...\n",
            "[nltk_data]   Package wordnet is already up-to-date!\n",
            "[nltk_data] Downloading package stopwords to /root/nltk_data...\n",
            "[nltk_data]   Unzipping corpora/stopwords.zip.\n"
          ],
          "name": "stdout"
        }
      ]
    },
    {
      "cell_type": "code",
      "metadata": {
        "id": "y8l9Tlcm-2bW"
      },
      "source": [
        "mystem = Mystem()\n",
        "lemm = WordNetLemmatizer()\n",
        "tokenizer_R = RegexpTokenizer(r'[\\d.,]+|[A-Z][.A-Z]+\\b\\.*|\\w+|\\S')"
      ],
      "execution_count": 85,
      "outputs": []
    },
    {
      "cell_type": "code",
      "metadata": {
        "id": "OheOzebU-2le"
      },
      "source": [
        "Tfidf_preprocess = TfidfVectorizer(tokenizer=tokenizer_R.tokenize,\n",
        "                                   max_features=300,\n",
        "                                   # preprocessor=mystem.lemmatize,\n",
        "                                   preprocessor=lemm.lemmatize,\n",
        "                                   analyzer='word',\n",
        "                                   stop_words=['english', \n",
        "                                               'spanish', 'portiguese'],\n",
        "                                   smooth_idf=True,\n",
        "                                   lowercase=True,\n",
        "                                   min_df=3,\n",
        "                                   max_df=2.0)\n",
        "feat_preprocess = Tfidf_preprocess.fit_transform(tt)"
      ],
      "execution_count": 35,
      "outputs": []
    },
    {
      "cell_type": "code",
      "metadata": {
        "id": "g23bEYu3-2na",
        "colab": {
          "base_uri": "https://localhost:8080/"
        },
        "outputId": "90ed3367-9652-4de7-d5c8-f5140e818c0a"
      },
      "source": [
        "LF_preprocess = LightFM(loss='warp', random_state=200)\n",
        "LF_preprocess.fit(data_train, item_features=feat_preprocess, epochs=10)\n",
        "precision_at_k(model=LF_preprocess, test_interactions=data_test, item_features=feat_preprocess, k=10).mean() "
      ],
      "execution_count": 36,
      "outputs": [
        {
          "output_type": "execute_result",
          "data": {
            "text/plain": [
              "0.010896131"
            ]
          },
          "metadata": {
            "tags": []
          },
          "execution_count": 36
        }
      ]
    },
    {
      "cell_type": "markdown",
      "metadata": {
        "id": "CdCqlKI0GgHk"
      },
      "source": [
        "Качество изменилось незначительно в худшую сторону, но, учитывая, насколько оно в целом плохое, это несильно что-то меняет. Видимо требуется более тяжелая артиллерия :("
      ]
    },
    {
      "cell_type": "markdown",
      "metadata": {
        "id": "VgayAPRpqn7L"
      },
      "source": [
        "Улучшилось ли качество предсказания?"
      ]
    },
    {
      "cell_type": "markdown",
      "metadata": {
        "id": "XKRzLLodq3gq"
      },
      "source": [
        "## Задание 5. (2 балла)"
      ]
    },
    {
      "cell_type": "markdown",
      "metadata": {
        "id": "brjHl49Aq8su"
      },
      "source": [
        "Подберите гиперпараметры модели LightFM (`n_components` и др.) для улучшения качества модели."
      ]
    },
    {
      "cell_type": "code",
      "metadata": {
        "id": "PlwaeCiZqncD"
      },
      "source": [
        "# class lightfm.LightFM(no_components=10, k=5, n=10, learning_schedule=’adagrad’, loss=’logistic’, \n",
        "# learning_rate=0.05, rho=0.95, epsilon=1e-06, item_alpha=0.0, user_alpha=0.0, max_sampled=10, random_state=None)"
      ],
      "execution_count": 37,
      "outputs": []
    },
    {
      "cell_type": "code",
      "metadata": {
        "id": "ab7GeZ5OgVRy"
      },
      "source": [
        "no_components = [5, 10]\n",
        "l_r = [0.01, 0.05, 0.07]\n",
        "max_s = [5, 15]\n"
      ],
      "execution_count": 38,
      "outputs": []
    },
    {
      "cell_type": "code",
      "metadata": {
        "id": "KJLWswO0iPYj"
      },
      "source": [
        "from collections import defaultdict\n",
        "d = defaultdict(lambda:defaultdict(lambda:0))"
      ],
      "execution_count": 39,
      "outputs": []
    },
    {
      "cell_type": "markdown",
      "metadata": {
        "id": "3xhrsc6-PqKw"
      },
      "source": [
        "Да, это неоптимально, но для улучшения качества не потребовалось долго перебирать параметры, так что не так уж и неоптимально :3"
      ]
    },
    {
      "cell_type": "code",
      "metadata": {
        "id": "na5Mav8ChZ0y",
        "colab": {
          "base_uri": "https://localhost:8080/"
        },
        "outputId": "3859da73-5f2c-439b-b0f6-5919191425c6"
      },
      "source": [
        "for n_comp in tqdm(no_components):\n",
        "  for learning_rate in l_r:\n",
        "    for max_sampled in max_s:\n",
        "      LF = LightFM(loss='warp', random_state=100, no_components=n_comp, learning_rate=learning_rate, max_sampled=max_sampled)\n",
        "      LF.fit(data_train, item_features=feat_preprocess, epochs=20)\n",
        "      prec = precision_at_k(model=LF, test_interactions=data_test, item_features=feat_preprocess, k=10).mean() \n",
        "      d[prec]['n_comp'] = n_comp\n",
        "      d[prec]['l_r'] = learning_rate\n",
        "      d[prec]['max_sampled'] = max_sampled"
      ],
      "execution_count": 40,
      "outputs": [
        {
          "output_type": "stream",
          "text": [
            "100%|██████████| 2/2 [01:48<00:00, 54.17s/it]\n"
          ],
          "name": "stderr"
        }
      ]
    },
    {
      "cell_type": "code",
      "metadata": {
        "id": "3Zu5TWA_liwx",
        "colab": {
          "base_uri": "https://localhost:8080/"
        },
        "outputId": "b02baddb-dd05-4089-83d9-79982bbad908"
      },
      "source": [
        "print(f\"Лучшее получившееся качество было {max(d)}\\nпри параметрах {sorted(d[max(d)].items())}\")"
      ],
      "execution_count": 41,
      "outputs": [
        {
          "output_type": "stream",
          "text": [
            "Лучшее получившееся качество было 0.014460285194218159\n",
            "при параметрах [('l_r', 0.07), ('max_sampled', 5), ('n_comp', 5)]\n"
          ],
          "name": "stdout"
        }
      ]
    },
    {
      "cell_type": "code",
      "metadata": {
        "id": "vVjKle3Fl3hm",
        "colab": {
          "base_uri": "https://localhost:8080/"
        },
        "outputId": "070a2102-078e-4c49-e707-2f5bc765e60f"
      },
      "source": [
        "LF = LightFM(loss='warp', random_state=100, no_components=5, learning_rate=0.07, max_sampled=5)\n",
        "LF.fit(data_train, item_features=feat_preprocess, epochs=20)\n",
        "precision_at_k(model=LF, test_interactions=data_test, item_features=feat_preprocess, k=10).mean() "
      ],
      "execution_count": 42,
      "outputs": [
        {
          "output_type": "execute_result",
          "data": {
            "text/plain": [
              "0.014460285"
            ]
          },
          "metadata": {
            "tags": []
          },
          "execution_count": 42
        }
      ]
    },
    {
      "cell_type": "markdown",
      "metadata": {
        "id": "xJA7v07NrYSF"
      },
      "source": [
        "## Бонусное задание. (3 балла)"
      ]
    },
    {
      "cell_type": "markdown",
      "metadata": {
        "id": "veLFUoVRrisk"
      },
      "source": [
        "Выше мы использовали достаточно простое представление текста статьи в виде TF-IDF. В этом задании Вам нужно представить текст статьи (можно вместе с заголовком) в виде эмбеддинга полученного с помощью рекуррентной сети или трансформера (можно использовать любую предобученную модель, которая Вам нравится). Обучите модель с ипользованием этих эмеддингов и сравните результаты с предыдущими."
      ]
    },
    {
      "cell_type": "markdown",
      "metadata": {
        "id": "ZKVyeI2QS01p"
      },
      "source": [
        "---\n",
        "Беру word2vec из прошлогодней домашки по текстам :)"
      ]
    },
    {
      "cell_type": "code",
      "metadata": {
        "id": "CQmn1cb-rXU3"
      },
      "source": [
        "import gensim\n",
        "from gensim.models.word2vec import Word2Vec"
      ],
      "execution_count": 182,
      "outputs": []
    },
    {
      "cell_type": "code",
      "metadata": {
        "id": "Pb_B5ZkMshtr"
      },
      "source": [
        "# функции из той же домашки :3\n",
        "def items_to_embedding(items: np.array, embedding_model):\n",
        "    answer = [0.] * len(items)\n",
        "    # for i in tqdm(range(len(items))):\n",
        "    for i in range(len(items)):\n",
        "        answer[i] = (sentence_embedding(items[i], embedding_model))\n",
        "    return np.asarray(answer)\n",
        "\n",
        "def sentence_embedding(sentence: str, embedding_model) -> np.array:\n",
        "    \"\"\"\n",
        "    Складывает вектора токенов строки sentence\n",
        "    \"\"\"\n",
        "    \n",
        "    ans = np.zeros(embedding_model['system'].shape[0])\n",
        "    for i in sentence:\n",
        "        if i in embedding_model:\n",
        "            emb = np.array(embedding_model[str(i)])\n",
        "            ans += emb\n",
        "    return ans / len(sentence)"
      ],
      "execution_count": 172,
      "outputs": []
    },
    {
      "cell_type": "markdown",
      "metadata": {
        "id": "VPYaemwKYU8S"
      },
      "source": [
        "Токенизируем тексты с заголовками, но сначала создадим такое в нашей таблице"
      ]
    },
    {
      "cell_type": "code",
      "metadata": {
        "id": "J4i1aG9jTZQj",
        "outputId": "e8b94b36-5ba0-4ac4-b2fe-04fccedc6cfc",
        "colab": {
          "base_uri": "https://localhost:8080/"
        }
      },
      "source": [
        "articles_df['tittext'] = articles_df['title'] + ' ' + articles_df['text']\n",
        "df = articles_df.copy()\n",
        "\n",
        "# повторяю все действия только уже с объединнеными текстами\n",
        "df.contentId = df.contentId.astype(\"category\")\n",
        "df.contentId.cat.set_categories(sorter, inplace=True)\n",
        "df = df.loc[df['contentId'].isin(train_rate.columns)]\n",
        "df = df.sort_values([\"contentId\"])\n",
        "\n",
        "tittext = df['tittext'].to_numpy()\n",
        "\n",
        "missing = list(set(train_rate.columns) - set(df['contentId'].tolist()))\n",
        "\n",
        "indices = []\n",
        "for i in missing:\n",
        "  indices.append(np.where(np.array(train_rate.columns) == i)[0][0])\n",
        "indices = sorted(indices)\n",
        "\n",
        "for i in indices:\n",
        "  tittext = np.insert(tittext, i, '')\n",
        "\n",
        "tittext.shape[0] == 2984 # проверим размерность нового корпуса текстов"
      ],
      "execution_count": 153,
      "outputs": [
        {
          "output_type": "execute_result",
          "data": {
            "text/plain": [
              "True"
            ]
          },
          "metadata": {
            "tags": []
          },
          "execution_count": 153
        }
      ]
    },
    {
      "cell_type": "markdown",
      "metadata": {
        "id": "AAR9bBczasy3"
      },
      "source": [
        "Теперь токенизируем все тексты"
      ]
    },
    {
      "cell_type": "code",
      "metadata": {
        "id": "7WQ3ewRQTZZr"
      },
      "source": [
        "def tokenize(text):\n",
        "  new_text = []\n",
        "  tokens = tokenizer_R.tokenize(text)\n",
        "  for i in tokens:\n",
        "    token = lemm.lemmatize(i).lower()\n",
        "    if token in stopwords.words(['english', \n",
        "                                 'spanish', \n",
        "                                 'portuguese']):\n",
        "      pass\n",
        "    else:\n",
        "      new_text.append(token)\n",
        "  return new_text"
      ],
      "execution_count": 154,
      "outputs": []
    },
    {
      "cell_type": "code",
      "metadata": {
        "id": "edVef_p5ZkQN",
        "outputId": "5fb33659-040a-480d-c24c-6d5097ee55a6",
        "colab": {
          "base_uri": "https://localhost:8080/",
          "height": 115,
          "referenced_widgets": [
            "35833c2f111c46c1a80e16f6b2b3f4ae",
            "d317f87f05604bcea5a619e25841aad7",
            "74966ebb44c045f29ba223290330e7f2",
            "d3b83d1766ca40a5ad5202ead750814f",
            "3267e34b93c040759e1a9b7215beb8e8",
            "eb0756cf36bd49a1ab7ebe6367686358",
            "19959c43e7f24787bbb500fc0399cb9a",
            "81b656b87ecf4624a59f5d539882b27c"
          ]
        }
      },
      "source": [
        "from tqdm import tqdm_notebook\n",
        "new_tt = []\n",
        "for i in tqdm_notebook(range(len(tittext) // 2984)):\n",
        "  new_tt.append(tokenize(tittext[i]))\n",
        "\n",
        "tt = pd.DataFrame(tittext, columns={'value' \n",
        "                                    #,'ind'\n",
        "                                    })\n",
        "tittext_new = tt['value'].apply(lambda x: tokenize(x))"
      ],
      "execution_count": 155,
      "outputs": [
        {
          "output_type": "stream",
          "text": [
            "/usr/local/lib/python3.7/dist-packages/ipykernel_launcher.py:3: TqdmDeprecationWarning: This function will be removed in tqdm==5.0.0\n",
            "Please use `tqdm.notebook.tqdm` instead of `tqdm.tqdm_notebook`\n",
            "  This is separate from the ipykernel package so we can avoid doing imports until\n"
          ],
          "name": "stderr"
        },
        {
          "output_type": "display_data",
          "data": {
            "application/vnd.jupyter.widget-view+json": {
              "model_id": "35833c2f111c46c1a80e16f6b2b3f4ae",
              "version_minor": 0,
              "version_major": 2
            },
            "text/plain": [
              "HBox(children=(FloatProgress(value=0.0, max=1.0), HTML(value='')))"
            ]
          },
          "metadata": {
            "tags": []
          }
        },
        {
          "output_type": "stream",
          "text": [
            "\n"
          ],
          "name": "stdout"
        }
      ]
    },
    {
      "cell_type": "code",
      "metadata": {
        "id": "8FEg_WGzZkTR"
      },
      "source": [
        "embedding_model = Word2Vec(sentences=tittext_new,\n",
        "                           workers=3,\n",
        "                           )"
      ],
      "execution_count": 183,
      "outputs": []
    },
    {
      "cell_type": "code",
      "metadata": {
        "id": "VfJokdsnZkVy",
        "outputId": "f60c49a9-e0fc-433b-bc32-1b1ac8697483",
        "colab": {
          "base_uri": "https://localhost:8080/"
        }
      },
      "source": [
        "embedding = items_to_embedding(tittext_new, embedding_model)\n",
        "embedding = np.nan_to_num(embedding)\n",
        "feat = sparse.csc_matrix(embedding)"
      ],
      "execution_count": 201,
      "outputs": [
        {
          "output_type": "stream",
          "text": [
            "/usr/local/lib/python3.7/dist-packages/ipykernel_launcher.py:14: DeprecationWarning: Call to deprecated `__getitem__` (Method will be removed in 4.0.0, use self.wv.__getitem__() instead).\n",
            "  \n",
            "/usr/local/lib/python3.7/dist-packages/ipykernel_launcher.py:16: DeprecationWarning: Call to deprecated `__contains__` (Method will be removed in 4.0.0, use self.wv.__contains__() instead).\n",
            "  app.launch_new_instance()\n",
            "/usr/local/lib/python3.7/dist-packages/ipykernel_launcher.py:17: DeprecationWarning: Call to deprecated `__getitem__` (Method will be removed in 4.0.0, use self.wv.__getitem__() instead).\n",
            "/usr/local/lib/python3.7/dist-packages/ipykernel_launcher.py:19: RuntimeWarning: invalid value encountered in true_divide\n"
          ],
          "name": "stderr"
        }
      ]
    },
    {
      "cell_type": "markdown",
      "metadata": {
        "id": "EhaLgDW_1gsb"
      },
      "source": [
        "Проверка на отсутствие пропусков и бесконечностей в данных, чтобы модель зафитилась спокойно!"
      ]
    },
    {
      "cell_type": "code",
      "metadata": {
        "id": "4Ir5lzUZ0uJs",
        "outputId": "d83cd055-dc05-4f9c-db5b-19506f81d652",
        "colab": {
          "base_uri": "https://localhost:8080/"
        }
      },
      "source": [
        "np.any(np.isnan(embedding))"
      ],
      "execution_count": 198,
      "outputs": [
        {
          "output_type": "execute_result",
          "data": {
            "text/plain": [
              "False"
            ]
          },
          "metadata": {
            "tags": []
          },
          "execution_count": 198
        }
      ]
    },
    {
      "cell_type": "code",
      "metadata": {
        "id": "f8ZRzbrwwWcA",
        "outputId": "93d34895-6312-4dc4-bc45-bc689d287129",
        "colab": {
          "base_uri": "https://localhost:8080/"
        }
      },
      "source": [
        "np.all(np.isfinite(embedding))"
      ],
      "execution_count": 199,
      "outputs": [
        {
          "output_type": "execute_result",
          "data": {
            "text/plain": [
              "True"
            ]
          },
          "metadata": {
            "tags": []
          },
          "execution_count": 199
        }
      ]
    },
    {
      "cell_type": "code",
      "metadata": {
        "id": "WU6iwhxhZkYm",
        "outputId": "a63d72e5-cc86-4715-aca2-3e18d38db587",
        "colab": {
          "base_uri": "https://localhost:8080/"
        }
      },
      "source": [
        "LF_FT = LightFM(loss='warp', random_state=50)\n",
        "LF_FT.fit(data_train, item_features=feat, epochs=20)\n",
        "precision_at_k(model=LF_FT, test_interactions=data_test, item_features=feat, k=10).mean()"
      ],
      "execution_count": 203,
      "outputs": [
        {
          "output_type": "execute_result",
          "data": {
            "text/plain": [
              "0.010997962"
            ]
          },
          "metadata": {
            "tags": []
          },
          "execution_count": 203
        }
      ]
    },
    {
      "cell_type": "markdown",
      "metadata": {
        "id": "jER9GhRy1UWm"
      },
      "source": [
        "Ну, качество не улучшилось, но эмбеддинг то мы обучили! :) Наверное, лучше было брать другой..."
      ]
    }
  ]
}